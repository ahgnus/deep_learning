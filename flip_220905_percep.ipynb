{
 "cells": [
  {
   "cell_type": "code",
   "execution_count": 1,
   "id": "381a76f9",
   "metadata": {},
   "outputs": [
    {
     "data": {
      "text/plain": [
       "array([0. , 0.5])"
      ]
     },
     "execution_count": 1,
     "metadata": {},
     "output_type": "execute_result"
    }
   ],
   "source": [
    "import numpy as np\n",
    "x = np.array([0,1])\n",
    "w = np.array([0.5, 0.5])\n",
    "b = -0.7\n",
    "w*x"
   ]
  },
  {
   "cell_type": "code",
   "execution_count": 2,
   "id": "4f6110be",
   "metadata": {},
   "outputs": [
    {
     "data": {
      "text/plain": [
       "0.5"
      ]
     },
     "execution_count": 2,
     "metadata": {},
     "output_type": "execute_result"
    }
   ],
   "source": [
    "np.sum(w*x)"
   ]
  },
  {
   "cell_type": "code",
   "execution_count": 3,
   "id": "52bee43c",
   "metadata": {},
   "outputs": [
    {
     "data": {
      "text/plain": [
       "-0.19999999999999996"
      ]
     },
     "execution_count": 3,
     "metadata": {},
     "output_type": "execute_result"
    }
   ],
   "source": [
    "np.sum(w*x)+b"
   ]
  },
  {
   "cell_type": "code",
   "execution_count": 16,
   "id": "d36440d9",
   "metadata": {},
   "outputs": [],
   "source": [
    "# AND 게이트\n",
    "def AND(x1, x2):\n",
    "    x = np.array([x1, x2])\n",
    "    #괄호 잘칠것 list, 1차원의 인덱스는 하나\n",
    "    #나눠서 치면 복잡(ex x = np.array([x1],[x2]))\n",
    "    w = np.array([0.5, 0.5])\n",
    "    b = -0.7\n",
    "    tmp = np.sum(w*x) + b\n",
    "    if tmp <= 0:\n",
    "        return 0\n",
    "    else:\n",
    "        return 1"
   ]
  },
  {
   "cell_type": "code",
   "execution_count": 17,
   "id": "db3db890",
   "metadata": {},
   "outputs": [],
   "source": [
    "# NAND\n",
    "def NAND(x1, x2):\n",
    "    x = np.array([x1,x2])\n",
    "    w = np.array([0.5,0.5])\n",
    "    b = -0.7\n",
    "    tmp = np.sum(w*x) + b\n",
    "    if tmp >=0:\n",
    "        return 0\n",
    "    else:\n",
    "        return 1\n",
    "    #주의 할 점은 단순하게 AND 게이트의 if tmp <= 0 의 역으로 if tmp > 0 으로\n",
    "    #작성하면 안된다는 점\n",
    "    #출력값만 반대로 나오게 하기때문에 == 0 값도 포함하여 1이나오지않게 해줘야한다"
   ]
  },
  {
   "cell_type": "code",
   "execution_count": 18,
   "id": "ba263a01",
   "metadata": {},
   "outputs": [],
   "source": [
    "#OR\n",
    "def OR(x1, x2):\n",
    "    x = np.array([x1, x2])\n",
    "    w = np.array([0.5, 0.5])\n",
    "    b = 0\n",
    "    tmp = np.sum(w*x) +b\n",
    "    if tmp == 0:\n",
    "        return 0\n",
    "    else:\n",
    "        return 1\n",
    "    # 입력값(x1, x2)가 0 1이면 가능하다 그러나 x1 = -x2 값일경우 오류값발생가능성"
   ]
  },
  {
   "cell_type": "code",
   "execution_count": 19,
   "id": "4b40f219",
   "metadata": {},
   "outputs": [],
   "source": [
    "#XOR \n",
    "def XOR(x1, x2):\n",
    "    y1_d1 = NAND(x1, x2)\n",
    "    y2_d1 = OR(x1, x2)\n",
    "    return AND(y1_d1, y2_d1)\n",
    "#회로망을 그려보면 바로 이해가된다 (이해가 쉽다)"
   ]
  },
  {
   "cell_type": "code",
   "execution_count": 20,
   "id": "2743a7f7",
   "metadata": {},
   "outputs": [
    {
     "data": {
      "text/plain": [
       "1"
      ]
     },
     "execution_count": 20,
     "metadata": {},
     "output_type": "execute_result"
    }
   ],
   "source": [
    "XOR(1,0)"
   ]
  },
  {
   "cell_type": "code",
   "execution_count": 21,
   "id": "55c7d03d",
   "metadata": {},
   "outputs": [
    {
     "data": {
      "text/plain": [
       "0"
      ]
     },
     "execution_count": 21,
     "metadata": {},
     "output_type": "execute_result"
    }
   ],
   "source": [
    "XOR(1,1)"
   ]
  },
  {
   "cell_type": "code",
   "execution_count": 22,
   "id": "a201f7a0",
   "metadata": {},
   "outputs": [
    {
     "data": {
      "text/plain": [
       "0"
      ]
     },
     "execution_count": 22,
     "metadata": {},
     "output_type": "execute_result"
    }
   ],
   "source": [
    "XOR(0,0)"
   ]
  },
  {
   "cell_type": "code",
   "execution_count": 23,
   "id": "5f868d36",
   "metadata": {},
   "outputs": [
    {
     "data": {
      "text/plain": [
       "1"
      ]
     },
     "execution_count": 23,
     "metadata": {},
     "output_type": "execute_result"
    }
   ],
   "source": [
    "XOR(0,1)"
   ]
  },
  {
   "cell_type": "code",
   "execution_count": null,
   "id": "75cc0d11",
   "metadata": {},
   "outputs": [],
   "source": []
  }
 ],
 "metadata": {
  "kernelspec": {
   "display_name": "Python 3 (ipykernel)",
   "language": "python",
   "name": "python3"
  },
  "language_info": {
   "codemirror_mode": {
    "name": "ipython",
    "version": 3
   },
   "file_extension": ".py",
   "mimetype": "text/x-python",
   "name": "python",
   "nbconvert_exporter": "python",
   "pygments_lexer": "ipython3",
   "version": "3.9.7"
  }
 },
 "nbformat": 4,
 "nbformat_minor": 5
}
